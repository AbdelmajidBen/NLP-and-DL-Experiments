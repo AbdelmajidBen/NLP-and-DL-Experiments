{
 "cells": [
  {
   "cell_type": "markdown",
   "id": "433cc85a-f8e2-446a-b450-8e9c1f273c83",
   "metadata": {},
   "source": [
    "## NLP Lap 3 "
   ]
  },
  {
   "cell_type": "markdown",
   "id": "23911b3e-627a-42b5-8b73-9909608309be",
   "metadata": {},
   "source": [
    "### The main purpose behind this lab is to get familiar with NLP language models using Sklearn library.\n"
   ]
  },
  {
   "cell_type": "markdown",
   "id": "4da81978-3400-4c53-a532-168052459e73",
   "metadata": {},
   "source": [
    "Importing all the necessary librarys for the part number 1 "
   ]
  },
  {
   "cell_type": "code",
   "execution_count": 1,
   "id": "30b84936-7bed-48f9-b711-2b5f1aee320f",
   "metadata": {},
   "outputs": [],
   "source": [
    "import pandas as pd\n",
    "import numpy as np\n",
    "import re\n",
    "from sklearn.model_selection import train_test_split\n",
    "from sklearn.feature_extraction.text import CountVectorizer, TfidfVectorizer\n",
    "from sklearn.svm import SVR\n",
    "from sklearn.linear_model import LinearRegression\n",
    "from sklearn.tree import DecisionTreeRegressor\n",
    "from sklearn.metrics import mean_squared_error, r2_score\n",
    "from nltk.corpus import stopwords\n",
    "from nltk.tokenize import word_tokenize\n",
    "from nltk.stem import PorterStemmer, WordNetLemmatizer\n",
    "from gensim.models import Word2Vec\n",
    "import nltk"
   ]
  },
  {
   "cell_type": "markdown",
   "id": "df806260-a74f-4780-b517-e9377f6081d9",
   "metadata": {},
   "source": [
    "Downloading the packages \"punkt\" \"stopwords\" \"wordnet\" using nltk"
   ]
  },
  {
   "cell_type": "code",
   "execution_count": 2,
   "id": "3e9150a2-670c-4241-bf1b-07508a3b4797",
   "metadata": {},
   "outputs": [
    {
     "name": "stderr",
     "output_type": "stream",
     "text": [
      "[nltk_data] Downloading package punkt to /Users/mac/nltk_data...\n",
      "[nltk_data]   Package punkt is already up-to-date!\n",
      "[nltk_data] Downloading package stopwords to /Users/mac/nltk_data...\n",
      "[nltk_data]   Package stopwords is already up-to-date!\n",
      "[nltk_data] Downloading package wordnet to /Users/mac/nltk_data...\n",
      "[nltk_data]   Package wordnet is already up-to-date!\n"
     ]
    },
    {
     "data": {
      "text/plain": [
       "True"
      ]
     },
     "execution_count": 2,
     "metadata": {},
     "output_type": "execute_result"
    }
   ],
   "source": [
    "nltk.download('punkt')\n",
    "nltk.download('stopwords')\n",
    "nltk.download('wordnet')"
   ]
  },
  {
   "cell_type": "markdown",
   "id": "e1e92fd2-f652-413b-9025-174b0a254e1e",
   "metadata": {},
   "source": [
    "Loading our dataset from the given url "
   ]
  },
  {
   "cell_type": "code",
   "execution_count": 3,
   "id": "05ea908b-dd46-4829-9ee8-f2e8a092c5b7",
   "metadata": {},
   "outputs": [],
   "source": [
    "url = 'https://github.com/dbbrandt/short_answer_granding_capstone_project/raw/master/data/sag/answers.csv'\n",
    "df = pd.read_csv(url)"
   ]
  },
  {
   "cell_type": "code",
   "execution_count": 4,
   "id": "e127d114-43fa-4522-8711-8d376178235b",
   "metadata": {},
   "outputs": [
    {
     "data": {
      "text/html": [
       "<div>\n",
       "<style scoped>\n",
       "    .dataframe tbody tr th:only-of-type {\n",
       "        vertical-align: middle;\n",
       "    }\n",
       "\n",
       "    .dataframe tbody tr th {\n",
       "        vertical-align: top;\n",
       "    }\n",
       "\n",
       "    .dataframe thead th {\n",
       "        text-align: right;\n",
       "    }\n",
       "</style>\n",
       "<table border=\"1\" class=\"dataframe\">\n",
       "  <thead>\n",
       "    <tr style=\"text-align: right;\">\n",
       "      <th></th>\n",
       "      <th>id</th>\n",
       "      <th>answer</th>\n",
       "      <th>score</th>\n",
       "      <th>correct</th>\n",
       "    </tr>\n",
       "  </thead>\n",
       "  <tbody>\n",
       "    <tr>\n",
       "      <th>0</th>\n",
       "      <td>1.1</td>\n",
       "      <td>High risk problems are address in the prototyp...</td>\n",
       "      <td>3.5</td>\n",
       "      <td>0.0</td>\n",
       "    </tr>\n",
       "    <tr>\n",
       "      <th>1</th>\n",
       "      <td>1.1</td>\n",
       "      <td>To simulate portions of the desired final prod...</td>\n",
       "      <td>5.0</td>\n",
       "      <td>1.0</td>\n",
       "    </tr>\n",
       "    <tr>\n",
       "      <th>2</th>\n",
       "      <td>1.1</td>\n",
       "      <td>A prototype program simulates the behaviors of...</td>\n",
       "      <td>4.0</td>\n",
       "      <td>1.0</td>\n",
       "    </tr>\n",
       "    <tr>\n",
       "      <th>3</th>\n",
       "      <td>1.1</td>\n",
       "      <td>Defined in the Specification phase a prototype...</td>\n",
       "      <td>5.0</td>\n",
       "      <td>1.0</td>\n",
       "    </tr>\n",
       "    <tr>\n",
       "      <th>4</th>\n",
       "      <td>1.1</td>\n",
       "      <td>It is used to let the users have a first idea ...</td>\n",
       "      <td>3.0</td>\n",
       "      <td>0.0</td>\n",
       "    </tr>\n",
       "    <tr>\n",
       "      <th>...</th>\n",
       "      <td>...</td>\n",
       "      <td>...</td>\n",
       "      <td>...</td>\n",
       "      <td>...</td>\n",
       "    </tr>\n",
       "    <tr>\n",
       "      <th>2437</th>\n",
       "      <td>12.1</td>\n",
       "      <td>log n</td>\n",
       "      <td>5.0</td>\n",
       "      <td>1.0</td>\n",
       "    </tr>\n",
       "    <tr>\n",
       "      <th>2438</th>\n",
       "      <td>12.1</td>\n",
       "      <td>minus 1 divided by 2</td>\n",
       "      <td>1.5</td>\n",
       "      <td>0.0</td>\n",
       "    </tr>\n",
       "    <tr>\n",
       "      <th>2439</th>\n",
       "      <td>12.1</td>\n",
       "      <td>2n-1</td>\n",
       "      <td>2.5</td>\n",
       "      <td>0.0</td>\n",
       "    </tr>\n",
       "    <tr>\n",
       "      <th>2440</th>\n",
       "      <td>12.1</td>\n",
       "      <td>it takes at most h steps, where h is the heigh...</td>\n",
       "      <td>5.0</td>\n",
       "      <td>1.0</td>\n",
       "    </tr>\n",
       "    <tr>\n",
       "      <th>2441</th>\n",
       "      <td>12.1</td>\n",
       "      <td>it depends on the install search tree then fro...</td>\n",
       "      <td>1.5</td>\n",
       "      <td>0.0</td>\n",
       "    </tr>\n",
       "  </tbody>\n",
       "</table>\n",
       "<p>2442 rows × 4 columns</p>\n",
       "</div>"
      ],
      "text/plain": [
       "        id                                             answer  score  correct\n",
       "0      1.1  High risk problems are address in the prototyp...    3.5      0.0\n",
       "1      1.1  To simulate portions of the desired final prod...    5.0      1.0\n",
       "2      1.1  A prototype program simulates the behaviors of...    4.0      1.0\n",
       "3      1.1  Defined in the Specification phase a prototype...    5.0      1.0\n",
       "4      1.1  It is used to let the users have a first idea ...    3.0      0.0\n",
       "...    ...                                                ...    ...      ...\n",
       "2437  12.1                                              log n    5.0      1.0\n",
       "2438  12.1                               minus 1 divided by 2    1.5      0.0\n",
       "2439  12.1                                               2n-1    2.5      0.0\n",
       "2440  12.1  it takes at most h steps, where h is the heigh...    5.0      1.0\n",
       "2441  12.1  it depends on the install search tree then fro...    1.5      0.0\n",
       "\n",
       "[2442 rows x 4 columns]"
      ]
     },
     "execution_count": 4,
     "metadata": {},
     "output_type": "execute_result"
    }
   ],
   "source": [
    "df"
   ]
  },
  {
   "cell_type": "code",
   "execution_count": 5,
   "id": "7b32c9a5-222a-4f4f-8d30-334e0ab13c33",
   "metadata": {},
   "outputs": [
    {
     "data": {
      "text/plain": [
       "(2442, 4)"
      ]
     },
     "execution_count": 5,
     "metadata": {},
     "output_type": "execute_result"
    }
   ],
   "source": [
    "df.shape"
   ]
  },
  {
   "cell_type": "code",
   "execution_count": 6,
   "id": "a7db1156-d6da-40f6-b67f-41a3d2791383",
   "metadata": {},
   "outputs": [
    {
     "data": {
      "text/plain": [
       "Index(['id', 'answer', 'score', 'correct'], dtype='object')"
      ]
     },
     "execution_count": 6,
     "metadata": {},
     "output_type": "execute_result"
    }
   ],
   "source": [
    "df.columns"
   ]
  },
  {
   "cell_type": "code",
   "execution_count": 7,
   "id": "84555b81-461f-4ce3-bb29-00d256e1073a",
   "metadata": {},
   "outputs": [
    {
     "data": {
      "text/html": [
       "<div>\n",
       "<style scoped>\n",
       "    .dataframe tbody tr th:only-of-type {\n",
       "        vertical-align: middle;\n",
       "    }\n",
       "\n",
       "    .dataframe tbody tr th {\n",
       "        vertical-align: top;\n",
       "    }\n",
       "\n",
       "    .dataframe thead th {\n",
       "        text-align: right;\n",
       "    }\n",
       "</style>\n",
       "<table border=\"1\" class=\"dataframe\">\n",
       "  <thead>\n",
       "    <tr style=\"text-align: right;\">\n",
       "      <th></th>\n",
       "      <th>id</th>\n",
       "      <th>answer</th>\n",
       "      <th>score</th>\n",
       "      <th>correct</th>\n",
       "    </tr>\n",
       "  </thead>\n",
       "  <tbody>\n",
       "    <tr>\n",
       "      <th>0</th>\n",
       "      <td>1.1</td>\n",
       "      <td>High risk problems are address in the prototyp...</td>\n",
       "      <td>3.5</td>\n",
       "      <td>0.0</td>\n",
       "    </tr>\n",
       "    <tr>\n",
       "      <th>1</th>\n",
       "      <td>1.1</td>\n",
       "      <td>To simulate portions of the desired final prod...</td>\n",
       "      <td>5.0</td>\n",
       "      <td>1.0</td>\n",
       "    </tr>\n",
       "    <tr>\n",
       "      <th>2</th>\n",
       "      <td>1.1</td>\n",
       "      <td>A prototype program simulates the behaviors of...</td>\n",
       "      <td>4.0</td>\n",
       "      <td>1.0</td>\n",
       "    </tr>\n",
       "    <tr>\n",
       "      <th>3</th>\n",
       "      <td>1.1</td>\n",
       "      <td>Defined in the Specification phase a prototype...</td>\n",
       "      <td>5.0</td>\n",
       "      <td>1.0</td>\n",
       "    </tr>\n",
       "    <tr>\n",
       "      <th>4</th>\n",
       "      <td>1.1</td>\n",
       "      <td>It is used to let the users have a first idea ...</td>\n",
       "      <td>3.0</td>\n",
       "      <td>0.0</td>\n",
       "    </tr>\n",
       "  </tbody>\n",
       "</table>\n",
       "</div>"
      ],
      "text/plain": [
       "    id                                             answer  score  correct\n",
       "0  1.1  High risk problems are address in the prototyp...    3.5      0.0\n",
       "1  1.1  To simulate portions of the desired final prod...    5.0      1.0\n",
       "2  1.1  A prototype program simulates the behaviors of...    4.0      1.0\n",
       "3  1.1  Defined in the Specification phase a prototype...    5.0      1.0\n",
       "4  1.1  It is used to let the users have a first idea ...    3.0      0.0"
      ]
     },
     "execution_count": 7,
     "metadata": {},
     "output_type": "execute_result"
    }
   ],
   "source": [
    "df.head(5)"
   ]
  },
  {
   "cell_type": "markdown",
   "id": "43ac67e3-7eb3-45fc-8f27-2feb7dcdc133",
   "metadata": {},
   "source": [
    "Moving to the text preprocessing "
   ]
  },
  {
   "cell_type": "code",
   "execution_count": 8,
   "id": "0b94f6c6-01f7-43aa-87b7-8f3a20492341",
   "metadata": {},
   "outputs": [],
   "source": [
    "def preprocess_text(text):\n",
    "    # Lowercase the text\n",
    "    text = text.lower()\n",
    "    \n",
    "    # Remove special characters and digits\n",
    "    text = re.sub(r'\\W', ' ', text)\n",
    "    text = re.sub(r'\\d', ' ', text)\n",
    "    \n",
    "    # Tokenization\n",
    "    tokens = word_tokenize(text)\n",
    "    \n",
    "    # Remove stopwords\n",
    "    tokens = [word for word in tokens if word not in stopwords.words('english')]\n",
    "    \n",
    "    # Stemming and Lemmatization\n",
    "    stemmer = PorterStemmer()\n",
    "    lemmatizer = WordNetLemmatizer()\n",
    "    tokens = [lemmatizer.lemmatize(stemmer.stem(word)) for word in tokens]\n",
    "    \n",
    "    return ' '.join(tokens)\n",
    "\n",
    "# Apply preprocessing to the dataset\n",
    "df['processed_text'] = df['answer'].apply(preprocess_text)"
   ]
  },
  {
   "cell_type": "code",
   "execution_count": 9,
   "id": "727f58bd-e667-44eb-8409-ef9380670eea",
   "metadata": {},
   "outputs": [
    {
     "data": {
      "text/html": [
       "<div>\n",
       "<style scoped>\n",
       "    .dataframe tbody tr th:only-of-type {\n",
       "        vertical-align: middle;\n",
       "    }\n",
       "\n",
       "    .dataframe tbody tr th {\n",
       "        vertical-align: top;\n",
       "    }\n",
       "\n",
       "    .dataframe thead th {\n",
       "        text-align: right;\n",
       "    }\n",
       "</style>\n",
       "<table border=\"1\" class=\"dataframe\">\n",
       "  <thead>\n",
       "    <tr style=\"text-align: right;\">\n",
       "      <th></th>\n",
       "      <th>id</th>\n",
       "      <th>answer</th>\n",
       "      <th>score</th>\n",
       "      <th>correct</th>\n",
       "      <th>processed_text</th>\n",
       "    </tr>\n",
       "  </thead>\n",
       "  <tbody>\n",
       "    <tr>\n",
       "      <th>0</th>\n",
       "      <td>1.1</td>\n",
       "      <td>High risk problems are address in the prototyp...</td>\n",
       "      <td>3.5</td>\n",
       "      <td>0.0</td>\n",
       "      <td>high risk problem address prototyp program mak...</td>\n",
       "    </tr>\n",
       "    <tr>\n",
       "      <th>1</th>\n",
       "      <td>1.1</td>\n",
       "      <td>To simulate portions of the desired final prod...</td>\n",
       "      <td>5.0</td>\n",
       "      <td>1.0</td>\n",
       "      <td>simul portion desir final product quick easi p...</td>\n",
       "    </tr>\n",
       "    <tr>\n",
       "      <th>2</th>\n",
       "      <td>1.1</td>\n",
       "      <td>A prototype program simulates the behaviors of...</td>\n",
       "      <td>4.0</td>\n",
       "      <td>1.0</td>\n",
       "      <td>prototyp program simul behavior portion desir ...</td>\n",
       "    </tr>\n",
       "    <tr>\n",
       "      <th>3</th>\n",
       "      <td>1.1</td>\n",
       "      <td>Defined in the Specification phase a prototype...</td>\n",
       "      <td>5.0</td>\n",
       "      <td>1.0</td>\n",
       "      <td>defin specif phase prototyp stimul behavior po...</td>\n",
       "    </tr>\n",
       "    <tr>\n",
       "      <th>4</th>\n",
       "      <td>1.1</td>\n",
       "      <td>It is used to let the users have a first idea ...</td>\n",
       "      <td>3.0</td>\n",
       "      <td>0.0</td>\n",
       "      <td>use let user first idea complet program allow ...</td>\n",
       "    </tr>\n",
       "  </tbody>\n",
       "</table>\n",
       "</div>"
      ],
      "text/plain": [
       "    id                                             answer  score  correct  \\\n",
       "0  1.1  High risk problems are address in the prototyp...    3.5      0.0   \n",
       "1  1.1  To simulate portions of the desired final prod...    5.0      1.0   \n",
       "2  1.1  A prototype program simulates the behaviors of...    4.0      1.0   \n",
       "3  1.1  Defined in the Specification phase a prototype...    5.0      1.0   \n",
       "4  1.1  It is used to let the users have a first idea ...    3.0      0.0   \n",
       "\n",
       "                                      processed_text  \n",
       "0  high risk problem address prototyp program mak...  \n",
       "1  simul portion desir final product quick easi p...  \n",
       "2  prototyp program simul behavior portion desir ...  \n",
       "3  defin specif phase prototyp stimul behavior po...  \n",
       "4  use let user first idea complet program allow ...  "
      ]
     },
     "execution_count": 9,
     "metadata": {},
     "output_type": "execute_result"
    }
   ],
   "source": [
    "df.head(5)"
   ]
  },
  {
   "cell_type": "markdown",
   "id": "c5c917fa-cfb1-4ab3-9ada-8ebd3f8bba30",
   "metadata": {},
   "source": [
    "Encoding Data Vectors"
   ]
  },
  {
   "cell_type": "code",
   "execution_count": 10,
   "id": "97f39f6c-4c39-4317-a1f6-6ab6fdd16d46",
   "metadata": {},
   "outputs": [],
   "source": [
    "vectorizer = CountVectorizer()\n",
    "X_bow = vectorizer.fit_transform(df['processed_text']).toarray()\n",
    "\n",
    "# TF-IDF\n",
    "tfidf_vectorizer = TfidfVectorizer()\n",
    "X_tfidf = tfidf_vectorizer.fit_transform(df['processed_text']).toarray()\n",
    "\n",
    "# Word2Vec\n",
    "tokenized_text = df['processed_text'].apply(word_tokenize)\n",
    "word2vec_model = Word2Vec(tokenized_text, vector_size=100, window=5, min_count=1, sg=0)  # CBOW\n",
    "X_word2vec = np.array([np.mean([word2vec_model.wv[word] for word in words if word in word2vec_model.wv]\n",
    "                                or [np.zeros(100)], axis=0) for words in tokenized_text])"
   ]
  },
  {
   "cell_type": "markdown",
   "id": "29bb82c5-908d-4a75-a92f-c5f6c60e4940",
   "metadata": {},
   "source": [
    "Splitting the data "
   ]
  },
  {
   "cell_type": "code",
   "execution_count": 11,
   "id": "f73ff7ea-2e4c-487e-aa6b-070364520a2e",
   "metadata": {},
   "outputs": [],
   "source": [
    "X_train_bow, X_test_bow, y_train, y_test = train_test_split(X_bow, df['score'], test_size=0.2, random_state=42)\n",
    "X_train_tfidf, X_test_tfidf, _, _ = train_test_split(X_tfidf, df['score'], test_size=0.2, random_state=42)\n",
    "X_train_w2v, X_test_w2v, _, _ = train_test_split(X_word2vec, df['score'], test_size=0.2, random_state=42)"
   ]
  },
  {
   "cell_type": "markdown",
   "id": "f9a8ea20-ef1b-411c-a9f7-67b3da0b6bc2",
   "metadata": {},
   "source": [
    "training and evaluating the models"
   ]
  },
  {
   "cell_type": "code",
   "execution_count": 12,
   "id": "aa8b3c4b-7eb1-44b2-94d9-8f5f0ba1eeae",
   "metadata": {},
   "outputs": [],
   "source": [
    "models = {\n",
    "    'SVR': SVR(),\n",
    "    'Linear Regression': LinearRegression(),\n",
    "    'Decision Tree': DecisionTreeRegressor()\n",
    "}\n",
    "\n",
    "def evaluate_model(X_train, X_test, y_train, y_test, model):\n",
    "    model.fit(X_train, y_train)\n",
    "    predictions = model.predict(X_test)\n",
    "    mse = mean_squared_error(y_test, predictions)\n",
    "    rmse = np.sqrt(mse)\n",
    "    r2 = r2_score(y_test, predictions)\n",
    "    return mse, rmse, r2"
   ]
  },
  {
   "cell_type": "code",
   "execution_count": 13,
   "id": "63232200-95db-40bb-99cf-4033b985520e",
   "metadata": {},
   "outputs": [],
   "source": [
    "results = {}\n",
    "for name, model in models.items():\n",
    "    mse_bow, rmse_bow, r2_bow = evaluate_model(X_train_bow, X_test_bow, y_train, y_test, model)\n",
    "    mse_tfidf, rmse_tfidf, r2_tfidf = evaluate_model(X_train_tfidf, X_test_tfidf, y_train, y_test, model)\n",
    "    mse_w2v, rmse_w2v, r2_w2v = evaluate_model(X_train_w2v, X_test_w2v, y_train, y_test, model)\n",
    "    \n",
    "    results[name] = {\n",
    "        'BOW': {'MSE': mse_bow, 'RMSE': rmse_bow, 'R2': r2_bow},\n",
    "        'TFIDF': {'MSE': mse_tfidf, 'RMSE': rmse_tfidf, 'R2': r2_tfidf},\n",
    "        'Word2Vec': {'MSE': mse_w2v, 'RMSE': rmse_w2v, 'R2': r2_w2v}\n",
    "    }\n"
   ]
  },
  {
   "cell_type": "code",
   "execution_count": 15,
   "id": "ba16fec1-10be-4c74-964e-d72a7123f20d",
   "metadata": {},
   "outputs": [
    {
     "name": "stdout",
     "output_type": "stream",
     "text": [
      "Results for SVR:\n",
      "  BOW:\n",
      "    MSE: 1.0897\n",
      "    RMSE: 1.0439\n",
      "    R2: 0.1480\n",
      "  TFIDF:\n",
      "    MSE: 0.9442\n",
      "    RMSE: 0.9717\n",
      "    R2: 0.2618\n",
      "  Word2Vec:\n",
      "    MSE: 1.6770\n",
      "    RMSE: 1.2950\n",
      "    R2: -0.3111\n",
      "Results for Linear Regression:\n",
      "  BOW:\n",
      "    MSE: 83975996787684403480363008.0000\n",
      "    RMSE: 9163841813763.7227\n",
      "    R2: -65655209789769237286354944.0000\n",
      "  TFIDF:\n",
      "    MSE: 1729860309208751639954980864.0000\n",
      "    RMSE: 41591589404695.1719\n",
      "    R2: -1352461963568523537392074752.0000\n",
      "  Word2Vec:\n",
      "    MSE: 1.1718\n",
      "    RMSE: 1.0825\n",
      "    R2: 0.0838\n",
      "Results for Decision Tree:\n",
      "  BOW:\n",
      "    MSE: 1.5751\n",
      "    RMSE: 1.2550\n",
      "    R2: -0.2315\n",
      "  TFIDF:\n",
      "    MSE: 1.7036\n",
      "    RMSE: 1.3052\n",
      "    R2: -0.3319\n",
      "  Word2Vec:\n",
      "    MSE: 1.7653\n",
      "    RMSE: 1.3286\n",
      "    R2: -0.3802\n"
     ]
    }
   ],
   "source": [
    "for model_name, metrics in results.items():\n",
    "    print(f\"Results for {model_name}:\")\n",
    "    for vector_type, scores in metrics.items():\n",
    "        print(f\"  {vector_type}:\")\n",
    "        for metric_name, score in scores.items():\n",
    "            print(f\"    {metric_name}: {score:.4f}\")"
   ]
  },
  {
   "cell_type": "markdown",
   "id": "084acbd9-a11c-41e3-a003-715d82ea977a",
   "metadata": {},
   "source": [
    "Choosing the right Model"
   ]
  },
  {
   "cell_type": "code",
   "execution_count": 17,
   "id": "e80aa1d5-0d9f-4b2e-8454-c817e5e97e9b",
   "metadata": {},
   "outputs": [
    {
     "name": "stdout",
     "output_type": "stream",
     "text": [
      "\n",
      "Best Model: SVR with TFIDF vectorization (RMSE: 0.9717)\n"
     ]
    }
   ],
   "source": [
    "best_model = None\n",
    "best_score = float('inf')\n",
    "best_vector = None\n",
    "\n",
    "for model_name, metrics in results.items():\n",
    "    for vector_type, scores in metrics.items():\n",
    "        if scores['RMSE'] < best_score:\n",
    "            best_score = scores['RMSE']\n",
    "            best_model = model_name\n",
    "            best_vector = vector_type\n",
    "\n",
    "print(f\"\\nBest Model: {best_model} with {best_vector} vectorization (RMSE: {best_score:.4f})\")"
   ]
  },
  {
   "cell_type": "code",
   "execution_count": null,
   "id": "7e389d2d-4e5f-4133-950e-d5258c06ffd5",
   "metadata": {},
   "outputs": [],
   "source": []
  }
 ],
 "metadata": {
  "kernelspec": {
   "display_name": "Python 3 (ipykernel)",
   "language": "python",
   "name": "python3"
  },
  "language_info": {
   "codemirror_mode": {
    "name": "ipython",
    "version": 3
   },
   "file_extension": ".py",
   "mimetype": "text/x-python",
   "name": "python",
   "nbconvert_exporter": "python",
   "pygments_lexer": "ipython3",
   "version": "3.11.7"
  }
 },
 "nbformat": 4,
 "nbformat_minor": 5
}
